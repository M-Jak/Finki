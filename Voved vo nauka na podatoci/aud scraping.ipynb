{
  "nbformat": 4,
  "nbformat_minor": 0,
  "metadata": {
    "colab": {
      "provenance": [],
      "authorship_tag": "ABX9TyPdxvlopcdVhccK2d6tWESG",
      "include_colab_link": true
    },
    "kernelspec": {
      "name": "python3",
      "display_name": "Python 3"
    },
    "language_info": {
      "name": "python"
    }
  },
  "cells": [
    {
      "cell_type": "markdown",
      "metadata": {
        "id": "view-in-github",
        "colab_type": "text"
      },
      "source": [
        "<a href=\"https://colab.research.google.com/github/M-Jak/Finki/blob/main/Voved%20vo%20nauka%20na%20podatoci/aud%20scraping.ipynb\" target=\"_parent\"><img src=\"https://colab.research.google.com/assets/colab-badge.svg\" alt=\"Open In Colab\"/></a>"
      ]
    },
    {
      "cell_type": "code",
      "execution_count": 18,
      "metadata": {
        "colab": {
          "base_uri": "https://localhost:8080/"
        },
        "id": "wMZCwCYBrswL",
        "outputId": "c7f65718-45d7-41e6-e443-97a4a1d9c082"
      },
      "outputs": [
        {
          "output_type": "stream",
          "name": "stdout",
          "text": [
            "Mounted at /content/drive\n"
          ]
        }
      ],
      "source": [
        "#Note: Imports for the modules that we need\n",
        "import numpy as np\n",
        "import pandas as pd\n",
        "\n",
        "#Note: Requests is a simple, yet elegant, HTTP library.\n",
        "#Resource: https://pypi.org/project/requests/\n",
        "import requests\n",
        "\n",
        "#Note: Beautiful Soup is a library that makes it easy to scrape information from web pages.\n",
        "#Note: In the following resource you can find a way to select any part of a HTML content.\n",
        "#Resource: https://pypi.org/project/beautifulsoup4/\n",
        "from bs4 import BeautifulSoup\n",
        "\n",
        "#Note: IPython is a command shell for interactive computing in Python.\n",
        "#Note: IPython.display is a module for display tools in IPython.\n",
        "#Resource: https://ipython.readthedocs.io/en/stable/api/generated/IPython.display.html\n",
        "from IPython.display import HTML\n",
        "\n",
        "\n",
        "#Note: We can disable warnings for our requests.\n",
        "import warnings\n",
        "\n",
        "requests.packages.urllib3.disable_warnings()\n",
        "warnings.filterwarnings(\"ignore\")\n",
        "\n",
        "from google.colab import drive\n",
        "drive.mount('/content/drive', force_remount=True)\n",
        "path = '/content/drive/MyDrive/VNP labs/AUD scraping'\n",
        "filepath = path + '/testfile.txt'\n",
        "\n",
        "f = open(filepath, \"w\")\n",
        "f.write(\"Now the file has more content!\")\n",
        "f.close()\n",
        "\n",
        "#test comment\n"
      ]
    }
  ]
}