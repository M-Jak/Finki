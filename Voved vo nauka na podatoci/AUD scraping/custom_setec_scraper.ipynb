{
  "nbformat": 4,
  "nbformat_minor": 0,
  "metadata": {
    "colab": {
      "provenance": [],
      "authorship_tag": "ABX9TyNKrfelPxaNcqKa6RyQRxVr",
      "include_colab_link": true
    },
    "kernelspec": {
      "name": "python3",
      "display_name": "Python 3"
    },
    "language_info": {
      "name": "python"
    }
  },
  "cells": [
    {
      "cell_type": "markdown",
      "metadata": {
        "id": "view-in-github",
        "colab_type": "text"
      },
      "source": [
        "<a href=\"https://colab.research.google.com/github/M-Jak/Finki/blob/main/Voved%20vo%20nauka%20na%20podatoci/AUD%20scraping/custom_setec_scraper.ipynb\" target=\"_parent\"><img src=\"https://colab.research.google.com/assets/colab-badge.svg\" alt=\"Open In Colab\"/></a>"
      ]
    },
    {
      "cell_type": "code",
      "execution_count": null,
      "metadata": {
        "id": "rjLjhKS7mPxU"
      },
      "outputs": [],
      "source": [
        "import pandas as pd\n",
        "from bs4 import BeautifulSoup\n",
        "import numpy as np\n",
        "import requests\n",
        "from IPython.display import HTML\n",
        "\n",
        "import warnings\n",
        "\n",
        "requests.packages.urllib3.disable_warnings()\n",
        "warnings.filterwarnings(\"ignore\")\n",
        "\n",
        "from google.colab import drive\n",
        "\n",
        "drive.mount('/content/drive')"
      ]
    },
    {
      "cell_type": "code",
      "source": [
        "response = requests.get(\"https://setec.mk/index.php?route=product/category&path=10019_10020&sort=p.sort_order&order=ASC\")"
      ],
      "metadata": {
        "id": "9693PVTUnEDI"
      },
      "execution_count": 79,
      "outputs": []
    },
    {
      "cell_type": "code",
      "source": [
        "html = BeautifulSoup(response.text,\"html.parser\")\n",
        "# name -> div.right -> a -> text -> strip\n",
        "# price -> div.right -> span.price-old-new -> text\n",
        "# price ackiska -> div.right -> span.price-new-new -> text\n",
        "# shifra -> div.right -> div.shifra -> text\n",
        "# html.select_one('div.right').select_one(\"a\").text.strip()"
      ],
      "metadata": {
        "id": "GAqnHTigooJn"
      },
      "execution_count": 80,
      "outputs": []
    },
    {
      "cell_type": "code",
      "source": [
        "def scrape(url=\"https://setec.mk/index.php?route=product/category&path=10019_10020&sort=p.sort_order&order=ASC&limit=100\",\\\n",
        "           path=\"/content/drive/MyDrive/VNP labs/AUD scraping/data\"):\n",
        "  response = requests.get(url)\n",
        "  html = BeautifulSoup(response.text,\"html.parser\")\n",
        "  print(\"Response status code: \" + str(response.status_code))\n",
        "  if response.status_code != 200:\n",
        "    return None\n",
        "  produkti_html = html.find_all(\"div\",{\"class\":\"right\"})\n",
        "  products = []\n",
        "\n",
        "  for i in range(len(produkti_html)):\n",
        "    item = {}\n",
        "    item['ID'] = i+1\n",
        "    item['Name'] = produkti_html[i].select_one('a').text.strip()\n",
        "    item['Regular price'] = produkti_html[i].select_one('span.price-old-new').text\n",
        "    item['Discounted price'] = produkti_html[i].select_one('span.price-new-new').text\n",
        "    item['Shifra'] = produkti_html[i].select_one('div.shifra').text.split(\":\")[1].strip()\n",
        "\n",
        "    products.append(item)\n",
        "\n",
        "  df = pd.DataFrame(products)\n",
        "  url_parts = url.split(\"/\")\n",
        "  filename = path + \"/results_\" + url_parts[2].split(\".\")[0] + \".csv\"\n",
        "  df.to_csv(filename, index=False)\n",
        "  return df"
      ],
      "metadata": {
        "id": "gem1R4FJm4_j"
      },
      "execution_count": 87,
      "outputs": []
    },
    {
      "cell_type": "code",
      "source": [
        "data = scrape(\"https://setec.mk/index.php?route=product/category&path=10066_10067&sort=p.price&order=DESC\")\n",
        "if data is None:\n",
        "  print(\"Response was not OK, cannot scrape.\")"
      ],
      "metadata": {
        "id": "kXGhHZSY5VTo"
      },
      "execution_count": null,
      "outputs": []
    }
  ]
}