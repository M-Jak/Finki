{
 "cells": [
  {
   "cell_type": "markdown",
   "metadata": {
    "id": "v8vsWahSyK_i"
   },
   "source": [
    "# Neural Networks"
   ]
  },
  {
   "cell_type": "markdown",
   "metadata": {
    "id": "G4FVV4npyYwk"
   },
   "source": [
    "## Building the Neural Networks"
   ]
  },
  {
   "cell_type": "markdown",
   "metadata": {
    "id": "oY3xhC9YZsO8"
   },
   "source": [
    "Use the following dataset https://www.kaggle.com/datasets/anmolkumar/health-insurance-cross-sell-prediction?select=train.csv to build three different neural networks using\n",
    "\n",
    "> different layers\n",
    "\n",
    "\n",
    "> activation functions\n",
    "\n",
    "\n",
    "> number of neurons per layer\n",
    "\n",
    "\n",
    "> number of layers\n",
    "\n",
    "\n",
    "\n",
    "\n",
    "\n",
    "\n",
    "\n",
    "\n",
    "\n"
   ]
  },
  {
   "cell_type": "code",
   "execution_count": 53,
   "metadata": {},
   "outputs": [],
   "source": [
    "import pandas as pd\n",
    "import seaborn as sns\n",
    "import matplotlib.pyplot as plt\n",
    "from sklearn.preprocessing import MinMaxScaler\n",
    "from sklearn.model_selection import train_test_split\n",
    "from keras.models import Sequential\n",
    "from keras.layers import Dense\n",
    "import keras\n",
    "from sklearn.metrics import mean_squared_error, mean_absolute_error, r2_score"
   ]
  },
  {
   "cell_type": "code",
   "execution_count": 54,
   "metadata": {},
   "outputs": [],
   "source": [
    "from sklearn.preprocessing import LabelEncoder, OrdinalEncoder"
   ]
  },
  {
   "cell_type": "code",
   "execution_count": 55,
   "metadata": {},
   "outputs": [],
   "source": [
    "data = pd.read_csv('./train.csv')"
   ]
  },
  {
   "cell_type": "markdown",
   "metadata": {
    "id": "MOJGKW_9auD4"
   },
   "source": [
    "### Data pre-processing"
   ]
  },
  {
   "cell_type": "code",
   "execution_count": 56,
   "metadata": {
    "id": "UR3dEMr-atq7"
   },
   "outputs": [],
   "source": [
    "data = data.drop(columns='id')"
   ]
  },
  {
   "cell_type": "code",
   "execution_count": 57,
   "metadata": {},
   "outputs": [
    {
     "data": {
      "text/html": [
       "<div>\n",
       "<style scoped>\n",
       "    .dataframe tbody tr th:only-of-type {\n",
       "        vertical-align: middle;\n",
       "    }\n",
       "\n",
       "    .dataframe tbody tr th {\n",
       "        vertical-align: top;\n",
       "    }\n",
       "\n",
       "    .dataframe thead th {\n",
       "        text-align: right;\n",
       "    }\n",
       "</style>\n",
       "<table border=\"1\" class=\"dataframe\">\n",
       "  <thead>\n",
       "    <tr style=\"text-align: right;\">\n",
       "      <th></th>\n",
       "      <th>Gender</th>\n",
       "      <th>Age</th>\n",
       "      <th>Driving_License</th>\n",
       "      <th>Region_Code</th>\n",
       "      <th>Previously_Insured</th>\n",
       "      <th>Vehicle_Age</th>\n",
       "      <th>Vehicle_Damage</th>\n",
       "      <th>Annual_Premium</th>\n",
       "      <th>Policy_Sales_Channel</th>\n",
       "      <th>Vintage</th>\n",
       "      <th>Response</th>\n",
       "    </tr>\n",
       "  </thead>\n",
       "  <tbody>\n",
       "    <tr>\n",
       "      <th>0</th>\n",
       "      <td>Male</td>\n",
       "      <td>44</td>\n",
       "      <td>1</td>\n",
       "      <td>28.0</td>\n",
       "      <td>0</td>\n",
       "      <td>&gt; 2 Years</td>\n",
       "      <td>Yes</td>\n",
       "      <td>40454.0</td>\n",
       "      <td>26.0</td>\n",
       "      <td>217</td>\n",
       "      <td>1</td>\n",
       "    </tr>\n",
       "    <tr>\n",
       "      <th>1</th>\n",
       "      <td>Male</td>\n",
       "      <td>76</td>\n",
       "      <td>1</td>\n",
       "      <td>3.0</td>\n",
       "      <td>0</td>\n",
       "      <td>1-2 Year</td>\n",
       "      <td>No</td>\n",
       "      <td>33536.0</td>\n",
       "      <td>26.0</td>\n",
       "      <td>183</td>\n",
       "      <td>0</td>\n",
       "    </tr>\n",
       "    <tr>\n",
       "      <th>2</th>\n",
       "      <td>Male</td>\n",
       "      <td>47</td>\n",
       "      <td>1</td>\n",
       "      <td>28.0</td>\n",
       "      <td>0</td>\n",
       "      <td>&gt; 2 Years</td>\n",
       "      <td>Yes</td>\n",
       "      <td>38294.0</td>\n",
       "      <td>26.0</td>\n",
       "      <td>27</td>\n",
       "      <td>1</td>\n",
       "    </tr>\n",
       "    <tr>\n",
       "      <th>3</th>\n",
       "      <td>Male</td>\n",
       "      <td>21</td>\n",
       "      <td>1</td>\n",
       "      <td>11.0</td>\n",
       "      <td>1</td>\n",
       "      <td>&lt; 1 Year</td>\n",
       "      <td>No</td>\n",
       "      <td>28619.0</td>\n",
       "      <td>152.0</td>\n",
       "      <td>203</td>\n",
       "      <td>0</td>\n",
       "    </tr>\n",
       "    <tr>\n",
       "      <th>4</th>\n",
       "      <td>Female</td>\n",
       "      <td>29</td>\n",
       "      <td>1</td>\n",
       "      <td>41.0</td>\n",
       "      <td>1</td>\n",
       "      <td>&lt; 1 Year</td>\n",
       "      <td>No</td>\n",
       "      <td>27496.0</td>\n",
       "      <td>152.0</td>\n",
       "      <td>39</td>\n",
       "      <td>0</td>\n",
       "    </tr>\n",
       "    <tr>\n",
       "      <th>...</th>\n",
       "      <td>...</td>\n",
       "      <td>...</td>\n",
       "      <td>...</td>\n",
       "      <td>...</td>\n",
       "      <td>...</td>\n",
       "      <td>...</td>\n",
       "      <td>...</td>\n",
       "      <td>...</td>\n",
       "      <td>...</td>\n",
       "      <td>...</td>\n",
       "      <td>...</td>\n",
       "    </tr>\n",
       "    <tr>\n",
       "      <th>381104</th>\n",
       "      <td>Male</td>\n",
       "      <td>74</td>\n",
       "      <td>1</td>\n",
       "      <td>26.0</td>\n",
       "      <td>1</td>\n",
       "      <td>1-2 Year</td>\n",
       "      <td>No</td>\n",
       "      <td>30170.0</td>\n",
       "      <td>26.0</td>\n",
       "      <td>88</td>\n",
       "      <td>0</td>\n",
       "    </tr>\n",
       "    <tr>\n",
       "      <th>381105</th>\n",
       "      <td>Male</td>\n",
       "      <td>30</td>\n",
       "      <td>1</td>\n",
       "      <td>37.0</td>\n",
       "      <td>1</td>\n",
       "      <td>&lt; 1 Year</td>\n",
       "      <td>No</td>\n",
       "      <td>40016.0</td>\n",
       "      <td>152.0</td>\n",
       "      <td>131</td>\n",
       "      <td>0</td>\n",
       "    </tr>\n",
       "    <tr>\n",
       "      <th>381106</th>\n",
       "      <td>Male</td>\n",
       "      <td>21</td>\n",
       "      <td>1</td>\n",
       "      <td>30.0</td>\n",
       "      <td>1</td>\n",
       "      <td>&lt; 1 Year</td>\n",
       "      <td>No</td>\n",
       "      <td>35118.0</td>\n",
       "      <td>160.0</td>\n",
       "      <td>161</td>\n",
       "      <td>0</td>\n",
       "    </tr>\n",
       "    <tr>\n",
       "      <th>381107</th>\n",
       "      <td>Female</td>\n",
       "      <td>68</td>\n",
       "      <td>1</td>\n",
       "      <td>14.0</td>\n",
       "      <td>0</td>\n",
       "      <td>&gt; 2 Years</td>\n",
       "      <td>Yes</td>\n",
       "      <td>44617.0</td>\n",
       "      <td>124.0</td>\n",
       "      <td>74</td>\n",
       "      <td>0</td>\n",
       "    </tr>\n",
       "    <tr>\n",
       "      <th>381108</th>\n",
       "      <td>Male</td>\n",
       "      <td>46</td>\n",
       "      <td>1</td>\n",
       "      <td>29.0</td>\n",
       "      <td>0</td>\n",
       "      <td>1-2 Year</td>\n",
       "      <td>No</td>\n",
       "      <td>41777.0</td>\n",
       "      <td>26.0</td>\n",
       "      <td>237</td>\n",
       "      <td>0</td>\n",
       "    </tr>\n",
       "  </tbody>\n",
       "</table>\n",
       "<p>381109 rows × 11 columns</p>\n",
       "</div>"
      ],
      "text/plain": [
       "        Gender  Age  Driving_License  Region_Code  Previously_Insured  \\\n",
       "0         Male   44                1         28.0                   0   \n",
       "1         Male   76                1          3.0                   0   \n",
       "2         Male   47                1         28.0                   0   \n",
       "3         Male   21                1         11.0                   1   \n",
       "4       Female   29                1         41.0                   1   \n",
       "...        ...  ...              ...          ...                 ...   \n",
       "381104    Male   74                1         26.0                   1   \n",
       "381105    Male   30                1         37.0                   1   \n",
       "381106    Male   21                1         30.0                   1   \n",
       "381107  Female   68                1         14.0                   0   \n",
       "381108    Male   46                1         29.0                   0   \n",
       "\n",
       "       Vehicle_Age Vehicle_Damage  Annual_Premium  Policy_Sales_Channel  \\\n",
       "0        > 2 Years            Yes         40454.0                  26.0   \n",
       "1         1-2 Year             No         33536.0                  26.0   \n",
       "2        > 2 Years            Yes         38294.0                  26.0   \n",
       "3         < 1 Year             No         28619.0                 152.0   \n",
       "4         < 1 Year             No         27496.0                 152.0   \n",
       "...            ...            ...             ...                   ...   \n",
       "381104    1-2 Year             No         30170.0                  26.0   \n",
       "381105    < 1 Year             No         40016.0                 152.0   \n",
       "381106    < 1 Year             No         35118.0                 160.0   \n",
       "381107   > 2 Years            Yes         44617.0                 124.0   \n",
       "381108    1-2 Year             No         41777.0                  26.0   \n",
       "\n",
       "        Vintage  Response  \n",
       "0           217         1  \n",
       "1           183         0  \n",
       "2            27         1  \n",
       "3           203         0  \n",
       "4            39         0  \n",
       "...         ...       ...  \n",
       "381104       88         0  \n",
       "381105      131         0  \n",
       "381106      161         0  \n",
       "381107       74         0  \n",
       "381108      237         0  \n",
       "\n",
       "[381109 rows x 11 columns]"
      ]
     },
     "execution_count": 57,
     "metadata": {},
     "output_type": "execute_result"
    }
   ],
   "source": [
    "data"
   ]
  },
  {
   "cell_type": "code",
   "execution_count": 58,
   "metadata": {},
   "outputs": [
    {
     "data": {
      "text/plain": [
       "<Axes: xlabel='Response'>"
      ]
     },
     "execution_count": 58,
     "metadata": {},
     "output_type": "execute_result"
    },
    {
     "data": {
      "image/png": "[encoded data removed]",
      "text/plain": [
       "<Figure size 640x480 with 1 Axes>"
      ]
     },
     "metadata": {},
     "output_type": "display_data"
    }
   ],
   "source": [
    "data['Response'].value_counts().plot.bar()"
   ]
  },
  {
   "cell_type": "code",
   "execution_count": 59,
   "metadata": {},
   "outputs": [
    {
     "name": "stdout",
     "output_type": "stream",
     "text": [
      "<class 'pandas.core.frame.DataFrame'>\n",
      "RangeIndex: 381109 entries, 0 to 381108\n",
      "Data columns (total 11 columns):\n",
      " #   Column                Non-Null Count   Dtype  \n",
      "---  ------                --------------   -----  \n",
      " 0   Gender                381109 non-null  object \n",
      " 1   Age                   381109 non-null  int64  \n",
      " 2   Driving_License       381109 non-null  int64  \n",
      " 3   Region_Code           381109 non-null  float64\n",
      " 4   Previously_Insured    381109 non-null  int64  \n",
      " 5   Vehicle_Age           381109 non-null  object \n",
      " 6   Vehicle_Damage        381109 non-null  object \n",
      " 7   Annual_Premium        381109 non-null  float64\n",
      " 8   Policy_Sales_Channel  381109 non-null  float64\n",
      " 9   Vintage               381109 non-null  int64  \n",
      " 10  Response              381109 non-null  int64  \n",
      "dtypes: float64(3), int64(5), object(3)\n",
      "memory usage: 32.0+ MB\n"
     ]
    }
   ],
   "source": [
    "data.info()"
   ]
  },
  {
   "cell_type": "code",
   "execution_count": 60,
   "metadata": {},
   "outputs": [],
   "source": [
    "label=LabelEncoder()\n",
    "ordinal=OrdinalEncoder()"
   ]
  },
  {
   "cell_type": "code",
   "execution_count": 61,
   "metadata": {},
   "outputs": [],
   "source": [
    "data['Gender']=label.fit_transform(data['Gender'])"
   ]
  },
  {
   "cell_type": "code",
   "execution_count": 62,
   "metadata": {},
   "outputs": [],
   "source": [
    "data['Vehicle_Damage']=label.fit_transform(data['Vehicle_Damage'])"
   ]
  },
  {
   "cell_type": "code",
   "execution_count": 63,
   "metadata": {},
   "outputs": [],
   "source": [
    "data['Vehicle_Age'] = ordinal.fit_transform(data['Vehicle_Age'].values.reshape(-1,1))"
   ]
  },
  {
   "cell_type": "code",
   "execution_count": 64,
   "metadata": {},
   "outputs": [],
   "source": [
    "X, Y = data.drop(columns='Response'), data['Response']"
   ]
  },
  {
   "cell_type": "code",
   "execution_count": 65,
   "metadata": {},
   "outputs": [],
   "source": [
    "X_train, X_test, Y_train, Y_test = train_test_split(X, Y, test_size=0.2)"
   ]
  },
  {
   "cell_type": "code",
   "execution_count": 66,
   "metadata": {},
   "outputs": [],
   "source": [
    "scaler = MinMaxScaler()"
   ]
  },
  {
   "cell_type": "code",
   "execution_count": 68,
   "metadata": {},
   "outputs": [],
   "source": [
    "scaler.fit(X_train)\n",
    "X_train = scaler.transform(X_train)\n",
    "X_test = scaler.transform(X_test)"
   ]
  },
  {
   "cell_type": "markdown",
   "metadata": {
    "id": "z-cjIbEqaWwN"
   },
   "source": [
    "### Neural Network 1"
   ]
  },
  {
   "cell_type": "markdown",
   "metadata": {
    "id": "DK6xEmhPa5jj"
   },
   "source": [
    "#### Optimize number of epochs and batch size for NN1"
   ]
  },
  {
   "cell_type": "code",
   "execution_count": null,
   "metadata": {
    "id": "XvheVs3tbB7l"
   },
   "outputs": [],
   "source": [
    "epochs_list= [3, 4, 5]\n",
    "batch_sizes=[32, 64, 128]"
   ]
  },
  {
   "cell_type": "code",
   "execution_count": null,
   "metadata": {},
   "outputs": [],
   "source": [
    "from sklearn.metrics import f1_score"
   ]
  },
  {
   "cell_type": "code",
   "execution_count": 72,
   "metadata": {},
   "outputs": [
    {
     "name": "stdout",
     "output_type": "stream",
     "text": [
      "Epoch 1/3\n",
      "9528/9528 [==============================] - 9s 857us/step - loss: 0.2771 - precision_9: 0.1037 - recall_9: 3.7385e-04\n",
      "Epoch 2/3\n",
      "9528/9528 [==============================] - 8s 858us/step - loss: 0.2703 - precision_9: 0.0000e+00 - recall_9: 0.0000e+00\n",
      "Epoch 3/3\n",
      "9528/9528 [==============================] - 8s 856us/step - loss: 0.2699 - precision_9: 0.0000e+00 - recall_9: 0.0000e+00\n",
      "2382/2382 [==============================] - 2s 638us/step\n",
      "Epoch 1/3\n",
      "4764/4764 [==============================] - 5s 853us/step - loss: 0.2790 - precision_10: 0.0000e+00 - recall_10: 0.0000e+00\n",
      "Epoch 2/3\n",
      "4764/4764 [==============================] - 4s 857us/step - loss: 0.2703 - precision_10: 1.0000 - recall_10: 2.6704e-05\n",
      "Epoch 3/3\n",
      "4764/4764 [==============================] - 4s 853us/step - loss: 0.2698 - precision_10: 0.4545 - recall_10: 5.3407e-04\n",
      "2382/2382 [==============================] - 2s 636us/step\n",
      "Epoch 1/3\n",
      "2382/2382 [==============================] - 3s 872us/step - loss: 0.2785 - precision_11: 0.0339 - recall_11: 1.0681e-04\n",
      "Epoch 2/3\n",
      "2382/2382 [==============================] - 2s 860us/step - loss: 0.2702 - precision_11: 0.0000e+00 - recall_11: 0.0000e+00\n",
      "Epoch 3/3\n",
      "2382/2382 [==============================] - 2s 871us/step - loss: 0.2696 - precision_11: 0.0000e+00 - recall_11: 0.0000e+00\n",
      "2382/2382 [==============================] - 2s 636us/step\n",
      "Epoch 1/4\n",
      "9528/9528 [==============================] - 9s 842us/step - loss: 0.2745 - precision_12: 0.0270 - recall_12: 2.6704e-05\n",
      "Epoch 2/4\n",
      "9528/9528 [==============================] - 8s 849us/step - loss: 0.2704 - precision_12: 0.0000e+00 - recall_12: 0.0000e+00\n",
      "Epoch 3/4\n",
      "9528/9528 [==============================] - 8s 850us/step - loss: 0.2698 - precision_12: 0.0000e+00 - recall_12: 0.0000e+00\n",
      "Epoch 4/4\n",
      "9528/9528 [==============================] - 8s 855us/step - loss: 0.2696 - precision_12: 0.0000e+00 - recall_12: 0.0000e+00\n",
      "2382/2382 [==============================] - 2s 642us/step\n",
      "Epoch 1/4\n",
      "4764/4764 [==============================] - 5s 856us/step - loss: 0.2765 - precision_13: 0.1524 - recall_13: 0.0015\n",
      "Epoch 2/4\n",
      "4764/4764 [==============================] - 4s 857us/step - loss: 0.2702 - precision_13: 0.4483 - recall_13: 6.9430e-04\n",
      "Epoch 3/4\n",
      "4764/4764 [==============================] - 4s 852us/step - loss: 0.2697 - precision_13: 0.5789 - recall_13: 2.9374e-04\n",
      "Epoch 4/4\n",
      "4764/4764 [==============================] - 4s 852us/step - loss: 0.2695 - precision_13: 0.4853 - recall_13: 8.8122e-04\n",
      "2382/2382 [==============================] - 2s 636us/step\n",
      "Epoch 1/4\n",
      "2382/2382 [==============================] - 3s 856us/step - loss: 0.2816 - precision_14: 0.1143 - recall_14: 0.0021\n",
      "Epoch 2/4\n",
      "2382/2382 [==============================] - 2s 868us/step - loss: 0.2706 - precision_14: 0.2500 - recall_14: 2.6704e-05\n",
      "Epoch 3/4\n",
      "2382/2382 [==============================] - 2s 870us/step - loss: 0.2699 - precision_14: 0.4648 - recall_14: 0.0018\n",
      "Epoch 4/4\n",
      "2382/2382 [==============================] - 2s 869us/step - loss: 0.2695 - precision_14: 0.4020 - recall_14: 0.0011\n",
      "2382/2382 [==============================] - 2s 638us/step\n",
      "Epoch 1/5\n",
      "9528/9528 [==============================] - 9s 849us/step - loss: 0.2806 - precision_15: 0.1562 - recall_15: 0.0025\n",
      "Epoch 2/5\n",
      "9528/9528 [==============================] - 8s 859us/step - loss: 0.2711 - precision_15: 0.0000e+00 - recall_15: 0.0000e+00\n",
      "Epoch 3/5\n",
      "9528/9528 [==============================] - 8s 843us/step - loss: 0.2700 - precision_15: 0.3636 - recall_15: 1.0681e-04\n",
      "Epoch 4/5\n",
      "9528/9528 [==============================] - 8s 842us/step - loss: 0.2697 - precision_15: 0.5060 - recall_15: 0.0011\n",
      "Epoch 5/5\n",
      "9528/9528 [==============================] - 8s 843us/step - loss: 0.2695 - precision_15: 0.3548 - recall_15: 2.9374e-04\n",
      "2382/2382 [==============================] - 2s 630us/step\n",
      "Epoch 1/5\n",
      "4764/4764 [==============================] - 5s 848us/step - loss: 0.2801 - precision_16: 0.1505 - recall_16: 8.2781e-04\n",
      "Epoch 2/5\n",
      "4764/4764 [==============================] - 4s 849us/step - loss: 0.2708 - precision_16: 0.5385 - recall_16: 1.8693e-04\n",
      "Epoch 3/5\n",
      "4764/4764 [==============================] - 4s 842us/step - loss: 0.2699 - precision_16: 0.4857 - recall_16: 0.0014\n",
      "Epoch 4/5\n",
      "4764/4764 [==============================] - 4s 841us/step - loss: 0.2696 - precision_16: 0.4320 - recall_16: 0.0014\n",
      "Epoch 5/5\n",
      "4764/4764 [==============================] - 4s 843us/step - loss: 0.2694 - precision_16: 0.4880 - recall_16: 0.0016\n",
      "2382/2382 [==============================] - 2s 633us/step\n",
      "Epoch 1/5\n",
      "2382/2382 [==============================] - 3s 859us/step - loss: 0.2787 - precision_17: 0.2581 - recall_17: 4.2726e-04\n",
      "Epoch 2/5\n",
      "2382/2382 [==============================] - 2s 851us/step - loss: 0.2711 - precision_17: 0.0000e+00 - recall_17: 0.0000e+00\n",
      "Epoch 3/5\n",
      "2382/2382 [==============================] - 2s 853us/step - loss: 0.2703 - precision_17: 0.0000e+00 - recall_17: 0.0000e+00\n",
      "Epoch 4/5\n",
      "2382/2382 [==============================] - 2s 853us/step - loss: 0.2699 - precision_17: 0.0000e+00 - recall_17: 0.0000e+00\n",
      "Epoch 5/5\n",
      "2382/2382 [==============================] - 2s 853us/step - loss: 0.2696 - precision_17: 1.0000 - recall_17: 2.6704e-05\n",
      "2382/2382 [==============================] - 2s 631us/step\n"
     ]
    }
   ],
   "source": [
    "results1 = {}\n",
    "for epoch in epochs_list:\n",
    "    for batch_size in batch_sizes:\n",
    "        model = Sequential()\n",
    "        model.add(Dense(32, activation='relu'))\n",
    "        model.add(Dense(16, activation='relu'))\n",
    "        model.add(Dense(8, activation='relu'))\n",
    "        model.add(Dense(1, activation='sigmoid'))\n",
    "        \n",
    "        model.compile(optimizer=keras.optimizers.Adam(), loss='binary_crossentropy', metrics=[keras.metrics.Precision(), keras.metrics.Recall()])\n",
    "\n",
    "        history = model.fit(X_train, Y_train, epochs=epoch, batch_size=batch_size)\n",
    "\n",
    "        y_pred = model.predict(X_test)\n",
    "        \n",
    "        # Convert predictions to binary (0 or 1)\n",
    "        y_pred_binary = (y_pred > 0.5).astype(int)\n",
    "\n",
    "        f1 = f1_score(Y_test, y_pred_binary)\n",
    "\n",
    "        results1[(epoch, batch_size)] = f1\n",
    "\n"
   ]
  },
  {
   "cell_type": "code",
   "execution_count": 74,
   "metadata": {},
   "outputs": [
    {
     "name": "stdout",
     "output_type": "stream",
     "text": [
      "Best combination1: Epochs=4, Batch Size1=128, F1 Score1=0.003869303525365434\n"
     ]
    }
   ],
   "source": [
    "best_combination1 = max(results1, key=results.get)\n",
    "best_epoch1, best_batch_size1 = best_combination1\n",
    "best_f1_score1 = results1[best_combination]\n",
    "\n",
    "print(f\"Best combination1: Epochs={best_epoch1}, Batch Size1={best_batch_size1}, F1 Score1={best_f1_score1}\")"
   ]
  },
  {
   "cell_type": "markdown",
   "metadata": {
    "id": "MpnGuxPpakKZ"
   },
   "source": [
    "### Neural Network 2"
   ]
  },
  {
   "cell_type": "markdown",
   "metadata": {
    "id": "VJZBW-XVbGkJ"
   },
   "source": [
    "#### Optimize number of epochs and batch size for NN2"
   ]
  },
  {
   "cell_type": "code",
   "execution_count": 75,
   "metadata": {
    "id": "7h7-_LdCakKa"
   },
   "outputs": [
    {
     "name": "stdout",
     "output_type": "stream",
     "text": [
      "Epoch 1/3\n",
      "9528/9528 [==============================] - 9s 828us/step - loss: 0.2754 - precision_18: 0.8769 - recall_18: 0.8769\n",
      "Epoch 2/3\n",
      "9528/9528 [==============================] - 8s 836us/step - loss: 0.2705 - precision_18: 0.8772 - recall_18: 0.8772\n",
      "Epoch 3/3\n",
      "9528/9528 [==============================] - 8s 836us/step - loss: 0.2701 - precision_18: 0.8772 - recall_18: 0.8772\n",
      "2382/2382 [==============================] - 2s 685us/step\n",
      "Epoch 1/3\n",
      "4764/4764 [==============================] - 5s 833us/step - loss: 0.2767 - precision_19: 0.8771 - recall_19: 0.8771\n",
      "Epoch 2/3\n",
      "4764/4764 [==============================] - 4s 834us/step - loss: 0.2705 - precision_19: 0.8772 - recall_19: 0.8772\n",
      "Epoch 3/3\n",
      "4764/4764 [==============================] - 4s 833us/step - loss: 0.2699 - precision_19: 0.8772 - recall_19: 0.8772\n",
      "2382/2382 [==============================] - 2s 676us/step\n",
      "Epoch 1/3\n",
      "2382/2382 [==============================] - 3s 841us/step - loss: 0.2816 - precision_20: 0.8771 - recall_20: 0.8771\n",
      "Epoch 2/3\n",
      "2382/2382 [==============================] - 2s 842us/step - loss: 0.2712 - precision_20: 0.8772 - recall_20: 0.8772\n",
      "Epoch 3/3\n",
      "2382/2382 [==============================] - 2s 843us/step - loss: 0.2701 - precision_20: 0.8772 - recall_20: 0.8772\n",
      "2382/2382 [==============================] - 2s 679us/step\n",
      "Epoch 1/4\n",
      "9528/9528 [==============================] - 8s 821us/step - loss: 0.2742 - precision_21: 0.8769 - recall_21: 0.8769\n",
      "Epoch 2/4\n",
      "9528/9528 [==============================] - 8s 823us/step - loss: 0.2705 - precision_21: 0.8772 - recall_21: 0.8772\n",
      "Epoch 3/4\n",
      "9528/9528 [==============================] - 8s 826us/step - loss: 0.2700 - precision_21: 0.8772 - recall_21: 0.8772\n",
      "Epoch 4/4\n",
      "9528/9528 [==============================] - 8s 823us/step - loss: 0.2698 - precision_21: 0.8772 - recall_21: 0.8772\n",
      "2382/2382 [==============================] - 2s 675us/step\n",
      "Epoch 1/4\n",
      "4764/4764 [==============================] - 5s 834us/step - loss: 0.2751 - precision_22: 0.8772 - recall_22: 0.8772\n",
      "Epoch 2/4\n",
      "4764/4764 [==============================] - 4s 831us/step - loss: 0.2704 - precision_22: 0.8772 - recall_22: 0.8772\n",
      "Epoch 3/4\n",
      "4764/4764 [==============================] - 4s 833us/step - loss: 0.2700 - precision_22: 0.8772 - recall_22: 0.8772\n",
      "Epoch 4/4\n",
      "4764/4764 [==============================] - 4s 829us/step - loss: 0.2697 - precision_22: 0.8772 - recall_22: 0.8772\n",
      "2382/2382 [==============================] - 2s 677us/step\n",
      "Epoch 1/4\n",
      "2382/2382 [==============================] - 3s 834us/step - loss: 0.2810 - precision_23: 0.8760 - recall_23: 0.8760\n",
      "Epoch 2/4\n",
      "2382/2382 [==============================] - 2s 838us/step - loss: 0.2715 - precision_23: 0.8772 - recall_23: 0.8772\n",
      "Epoch 3/4\n",
      "2382/2382 [==============================] - 2s 837us/step - loss: 0.2702 - precision_23: 0.8771 - recall_23: 0.8771\n",
      "Epoch 4/4\n",
      "2382/2382 [==============================] - 2s 847us/step - loss: 0.2699 - precision_23: 0.8772 - recall_23: 0.8772\n",
      "2382/2382 [==============================] - 2s 675us/step\n",
      "Epoch 1/5\n",
      "9528/9528 [==============================] - 9s 830us/step - loss: 0.2762 - precision_24: 0.8768 - recall_24: 0.8768\n",
      "Epoch 2/5\n",
      "9528/9528 [==============================] - 8s 827us/step - loss: 0.2706 - precision_24: 0.8772 - recall_24: 0.8772\n",
      "Epoch 3/5\n",
      "9528/9528 [==============================] - 8s 838us/step - loss: 0.2701 - precision_24: 0.8772 - recall_24: 0.8772\n",
      "Epoch 4/5\n",
      "9528/9528 [==============================] - 8s 842us/step - loss: 0.2699 - precision_24: 0.8772 - recall_24: 0.8772\n",
      "Epoch 5/5\n",
      "9528/9528 [==============================] - 8s 839us/step - loss: 0.2698 - precision_24: 0.8772 - recall_24: 0.8772\n",
      "2382/2382 [==============================] - 2s 677us/step\n",
      "Epoch 1/5\n",
      "4764/4764 [==============================] - 5s 829us/step - loss: 0.2770 - precision_25: 0.8760 - recall_25: 0.8760\n",
      "Epoch 2/5\n",
      "4764/4764 [==============================] - 4s 847us/step - loss: 0.2706 - precision_25: 0.8772 - recall_25: 0.8772\n",
      "Epoch 3/5\n",
      "4764/4764 [==============================] - 4s 842us/step - loss: 0.2699 - precision_25: 0.8772 - recall_25: 0.8772\n",
      "Epoch 4/5\n",
      "4764/4764 [==============================] - 4s 849us/step - loss: 0.2697 - precision_25: 0.8772 - recall_25: 0.8772\n",
      "Epoch 5/5\n",
      "4764/4764 [==============================] - 4s 910us/step - loss: 0.2695 - precision_25: 0.8771 - recall_25: 0.8771\n",
      "2382/2382 [==============================] - 2s 688us/step\n",
      "Epoch 1/5\n",
      "2382/2382 [==============================] - 3s 858us/step - loss: 0.2844 - precision_26: 0.8729 - recall_26: 0.8729\n",
      "Epoch 2/5\n",
      "2382/2382 [==============================] - 2s 844us/step - loss: 0.2709 - precision_26: 0.8771 - recall_26: 0.8771\n",
      "Epoch 3/5\n",
      "2382/2382 [==============================] - 2s 858us/step - loss: 0.2703 - precision_26: 0.8772 - recall_26: 0.8772\n",
      "Epoch 4/5\n",
      "2382/2382 [==============================] - 2s 863us/step - loss: 0.2698 - precision_26: 0.8773 - recall_26: 0.8773\n",
      "Epoch 5/5\n",
      "2382/2382 [==============================] - 2s 858us/step - loss: 0.2696 - precision_26: 0.8772 - recall_26: 0.8772\n",
      "2382/2382 [==============================] - 2s 687us/step\n"
     ]
    }
   ],
   "source": [
    "from tensorflow.keras.utils import to_categorical\n",
    "from sklearn.metrics import f1_score\n",
    "import numpy as np\n",
    "\n",
    "results2 = {}\n",
    "\n",
    "Y_train_one_hot = to_categorical(Y_train, num_classes=2)\n",
    "Y_test_one_hot = to_categorical(Y_test, num_classes=2)\n",
    "\n",
    "for epoch in epochs_list:\n",
    "    for batch_size in batch_sizes:\n",
    "        model = Sequential()\n",
    "        model.add(Dense(32, activation='relu'))\n",
    "        model.add(Dense(16, activation='tanh'))\n",
    "        model.add(Dense(8, activation='relu'))\n",
    "        model.add(Dense(2, activation='softmax'))  \n",
    "        \n",
    "        model.compile(optimizer=keras.optimizers.Adam(), loss='categorical_crossentropy', metrics=[keras.metrics.Precision(), keras.metrics.Recall()])\n",
    "\n",
    "        history = model.fit(X_train, Y_train_one_hot, epochs=epoch, batch_size=batch_size)\n",
    "\n",
    "        y_pred_prob = model.predict(X_test)\n",
    "\n",
    "        # Convert probabilities to binary (0 or 1)\n",
    "        y_pred_binary = np.argmax(y_pred_prob, axis=1)\n",
    "\n",
    "        f1 = f1_score(Y_test, y_pred_binary)\n",
    "\n",
    "        results2[(epoch, batch_size)] = f1"
   ]
  },
  {
   "cell_type": "code",
   "execution_count": 76,
   "metadata": {},
   "outputs": [
    {
     "name": "stdout",
     "output_type": "stream",
     "text": [
      "Best combination2: Epochs=4, Batch Size2=128, F1 Score2=0.0036574870912220313\n"
     ]
    }
   ],
   "source": [
    "best_combination2 = max(results2, key=results.get)\n",
    "best_epoch2, best_batch_size2 = best_combination2\n",
    "best_f1_score2 = results2[best_combination]\n",
    "\n",
    "print(f\"Best combination2: Epochs={best_epoch2}, Batch Size2={best_batch_size2}, F1 Score2={best_f1_score2}\")"
   ]
  },
  {
   "cell_type": "code",
   "execution_count": 79,
   "metadata": {
    "id": "j-uAE7KSbGkJ"
   },
   "outputs": [],
   "source": [
    "from tensorflow.keras.layers import Dense, LeakyReLU\n",
    "from tensorflow.keras.models import Sequential"
   ]
  },
  {
   "cell_type": "markdown",
   "metadata": {
    "id": "vo0qlaMNakWQ"
   },
   "source": [
    "### Neural Network 3"
   ]
  },
  {
   "cell_type": "code",
   "execution_count": 81,
   "metadata": {},
   "outputs": [
    {
     "name": "stdout",
     "output_type": "stream",
     "text": [
      "Best combination3: Epochs=4, Batch Size3=128, F1 Score3=0.00021591277124041888\n"
     ]
    }
   ],
   "source": [
    "best_combination3 = max(results3, key=results.get)\n",
    "best_epoch3, best_batch_size3 = best_combination3\n",
    "best_f1_score3 = results3[best_combination]\n",
    "\n",
    "print(f\"Best combination3: Epochs={best_epoch3}, Batch Size3={best_batch_size3}, F1 Score3={best_f1_score3}\")"
   ]
  },
  {
   "cell_type": "markdown",
   "metadata": {
    "id": "bN5SEHuSbJUR"
   },
   "source": [
    "#### Optimize number of epochs and batch size for NN3"
   ]
  },
  {
   "cell_type": "code",
   "execution_count": 84,
   "metadata": {
    "id": "MUZ1-qNSakWQ"
   },
   "outputs": [
    {
     "name": "stdout",
     "output_type": "stream",
     "text": [
      "Epoch 1/3\n",
      "9528/9528 [==============================] - 9s 895us/step - loss: 0.2802 - precision_36: 0.3667 - recall_36: 0.0021\n",
      "Epoch 2/3\n",
      "9528/9528 [==============================] - 9s 899us/step - loss: 0.2732 - precision_36: 0.4741 - recall_36: 0.0032\n",
      "Epoch 3/3\n",
      "9528/9528 [==============================] - 9s 899us/step - loss: 0.2715 - precision_36: 0.4631 - recall_36: 0.0037\n",
      "2382/2382 [==============================] - 2s 652us/step\n",
      "Epoch 1/3\n",
      "4764/4764 [==============================] - 5s 891us/step - loss: 0.2935 - precision_37: 0.1828 - recall_37: 4.5396e-04\n",
      "Epoch 2/3\n",
      "4764/4764 [==============================] - 4s 893us/step - loss: 0.2738 - precision_37: 0.0000e+00 - recall_37: 0.0000e+00\n",
      "Epoch 3/3\n",
      "4764/4764 [==============================] - 4s 890us/step - loss: 0.2726 - precision_37: 0.0000e+00 - recall_37: 0.0000e+00\n",
      "2382/2382 [==============================] - 2s 953us/step\n",
      "Epoch 1/3\n",
      "2382/2382 [==============================] - 3s 918us/step - loss: 0.2901 - precision_38: 0.2857 - recall_38: 3.2044e-04\n",
      "Epoch 2/3\n",
      "2382/2382 [==============================] - 2s 914us/step - loss: 0.2716 - precision_38: 0.0000e+00 - recall_38: 0.0000e+00\n",
      "Epoch 3/3\n",
      "2382/2382 [==============================] - 2s 913us/step - loss: 0.2703 - precision_38: 0.0000e+00 - recall_38: 0.0000e+00\n",
      "2382/2382 [==============================] - 2s 658us/step\n",
      "Epoch 1/4\n",
      "9528/9528 [==============================] - 9s 909us/step - loss: 0.2808 - precision_39: 0.0791 - recall_39: 6.6759e-04\n",
      "Epoch 2/4\n",
      "9528/9528 [==============================] - 9s 908us/step - loss: 0.2709 - precision_39: 0.3333 - recall_39: 5.3407e-05\n",
      "Epoch 3/4\n",
      "9528/9528 [==============================] - 9s 906us/step - loss: 0.2702 - precision_39: 0.1250 - recall_39: 2.6704e-05\n",
      "Epoch 4/4\n",
      "9528/9528 [==============================] - 9s 905us/step - loss: 0.2699 - precision_39: 0.6667 - recall_39: 5.3407e-05\n",
      "2382/2382 [==============================] - 2s 656us/step\n",
      "Epoch 1/4\n",
      "4764/4764 [==============================] - 5s 906us/step - loss: 0.2796 - precision_40: 0.2500 - recall_40: 3.4715e-04\n",
      "Epoch 2/4\n",
      "4764/4764 [==============================] - 4s 913us/step - loss: 0.2718 - precision_40: 0.0000e+00 - recall_40: 0.0000e+00\n",
      "Epoch 3/4\n",
      "4764/4764 [==============================] - 4s 913us/step - loss: 0.2707 - precision_40: 0.0000e+00 - recall_40: 0.0000e+00\n",
      "Epoch 4/4\n",
      "4764/4764 [==============================] - 4s 940us/step - loss: 0.2702 - precision_40: 0.0000e+00 - recall_40: 0.0000e+00\n",
      "2382/2382 [==============================] - 2s 672us/step\n",
      "Epoch 1/4\n",
      "2382/2382 [==============================] - 3s 921us/step - loss: 0.2871 - precision_41: 0.2824 - recall_41: 6.4089e-04\n",
      "Epoch 2/4\n",
      "2382/2382 [==============================] - 2s 979us/step - loss: 0.2713 - precision_41: 0.0000e+00 - recall_41: 0.0000e+00\n",
      "Epoch 3/4\n",
      "2382/2382 [==============================] - 2s 919us/step - loss: 0.2705 - precision_41: 0.0000e+00 - recall_41: 0.0000e+00\n",
      "Epoch 4/4\n",
      "2382/2382 [==============================] - 2s 945us/step - loss: 0.2702 - precision_41: 0.0000e+00 - recall_41: 0.0000e+00\n",
      "2382/2382 [==============================] - 2s 729us/step\n",
      "Epoch 1/5\n",
      "9528/9528 [==============================] - 10s 944us/step - loss: 0.3057 - precision_42: 0.1860 - recall_42: 0.0049\n",
      "Epoch 2/5\n",
      "9528/9528 [==============================] - 9s 903us/step - loss: 0.2717 - precision_42: 0.3500 - recall_42: 9.3463e-04\n",
      "Epoch 3/5\n",
      "9528/9528 [==============================] - 9s 903us/step - loss: 0.2709 - precision_42: 0.2381 - recall_42: 1.3352e-04\n",
      "Epoch 4/5\n",
      "9528/9528 [==============================] - 9s 903us/step - loss: 0.2705 - precision_42: 0.3800 - recall_42: 5.0737e-04\n",
      "Epoch 5/5\n",
      "9528/9528 [==============================] - 9s 908us/step - loss: 0.2702 - precision_42: 0.4490 - recall_42: 0.0012\n",
      "2382/2382 [==============================] - 2s 680us/step\n",
      "Epoch 1/5\n",
      "4764/4764 [==============================] - 5s 910us/step - loss: 0.2790 - precision_43: 0.0000e+00 - recall_43: 0.0000e+00\n",
      "Epoch 2/5\n",
      "4764/4764 [==============================] - 4s 921us/step - loss: 0.2715 - precision_43: 0.0000e+00 - recall_43: 0.0000e+00\n",
      "Epoch 3/5\n",
      "4764/4764 [==============================] - 4s 905us/step - loss: 0.2709 - precision_43: 0.0000e+00 - recall_43: 0.0000e+00\n",
      "Epoch 4/5\n",
      "4764/4764 [==============================] - 4s 910us/step - loss: 0.2704 - precision_43: 0.0000e+00 - recall_43: 0.0000e+00\n",
      "Epoch 5/5\n",
      "4764/4764 [==============================] - 4s 904us/step - loss: 0.2700 - precision_43: 0.0000e+00 - recall_43: 0.0000e+00\n",
      "2382/2382 [==============================] - 2s 657us/step\n",
      "Epoch 1/5\n",
      "2382/2382 [==============================] - 3s 929us/step - loss: 0.2858 - precision_44: 0.2174 - recall_44: 1.3352e-04\n",
      "Epoch 2/5\n",
      "2382/2382 [==============================] - 2s 910us/step - loss: 0.2714 - precision_44: 0.0000e+00 - recall_44: 0.0000e+00\n",
      "Epoch 3/5\n",
      "2382/2382 [==============================] - 2s 916us/step - loss: 0.2704 - precision_44: 0.0000e+00 - recall_44: 0.0000e+00\n",
      "Epoch 4/5\n",
      "2382/2382 [==============================] - 2s 917us/step - loss: 0.2701 - precision_44: 0.0000e+00 - recall_44: 0.0000e+00\n",
      "Epoch 5/5\n",
      "2382/2382 [==============================] - 2s 904us/step - loss: 0.2697 - precision_44: 0.0000e+00 - recall_44: 0.0000e+00\n",
      "2382/2382 [==============================] - 2s 662us/step\n"
     ]
    }
   ],
   "source": [
    "results3 = {}\n",
    "for epoch in epochs_list:\n",
    "    for batch_size in batch_sizes:\n",
    "        model = Sequential()\n",
    "        model.add(Dense(16, activation=LeakyReLU(alpha=0.01)))\n",
    "        model.add(Dense(8, activation='tanh'))\n",
    "        model.add(Dense(4, activation=LeakyReLU(alpha=0.02)))\n",
    "        model.add(Dense(2, activation=LeakyReLU(alpha=0.02)))\n",
    "        model.add(Dense(1, activation='sigmoid'))\n",
    "        \n",
    "        model.compile(optimizer=keras.optimizers.Adam(), loss='binary_crossentropy', metrics=[keras.metrics.Precision(), keras.metrics.Recall()])\n",
    "\n",
    "        history = model.fit(X_train, Y_train, epochs=epoch, batch_size=batch_size)\n",
    "\n",
    "        y_pred = model.predict(X_test)\n",
    "        \n",
    "        # Convert predictions to binary (0 or 1)\n",
    "        y_pred_binary = (y_pred > 0.5).astype(int)\n",
    "\n",
    "        f1 = f1_score(Y_test, y_pred_binary)\n",
    "\n",
    "        results3[(epoch, batch_size)] = f1\n",
    "\n"
   ]
  },
  {
   "cell_type": "code",
   "execution_count": null,
   "metadata": {
    "id": "VD2UF-8AbJUS"
   },
   "outputs": [],
   "source": []
  },
  {
   "cell_type": "markdown",
   "metadata": {
    "id": "21ggHDTEa17b"
   },
   "source": [
    "## Evaluate the three NNs"
   ]
  },
  {
   "cell_type": "code",
   "execution_count": null,
   "metadata": {
    "id": "MHD7htN7a1xB"
   },
   "outputs": [],
   "source": []
  },
  {
   "cell_type": "markdown",
   "metadata": {
    "id": "FUb0uPdDbUmc"
   },
   "source": [
    "## Results analysis"
   ]
  },
  {
   "cell_type": "code",
   "execution_count": 83,
   "metadata": {
    "id": "n74eAnwPbUmd"
   },
   "outputs": [
    {
     "name": "stdout",
     "output_type": "stream",
     "text": [
      "Best combination1: Epochs=4, Batch Size1=128, F1 Score1=0.003869303525365434\n",
      "Best combination2: Epochs=4, Batch Size2=128, F1 Score2=0.0036574870912220313\n",
      "Best combination3: Epochs=4, Batch Size3=128, F1 Score3=0.00021591277124041888\n"
     ]
    }
   ],
   "source": [
    "print(f\"Best combination1: Epochs={best_epoch1}, Batch Size1={best_batch_size1}, F1 Score1={best_f1_score1}\")\n",
    "print(f\"Best combination2: Epochs={best_epoch2}, Batch Size2={best_batch_size2}, F1 Score2={best_f1_score2}\")\n",
    "print(f\"Best combination3: Epochs={best_epoch3}, Batch Size3={best_batch_size3}, F1 Score3={best_f1_score3}\")"
   ]
  }
 ],
 "metadata": {
  "colab": {
   "provenance": []
  },
  "kernelspec": {
   "display_name": "Python 3 (ipykernel)",
   "language": "python",
   "name": "python3"
  },
  "language_info": {
   "codemirror_mode": {
    "name": "ipython",
    "version": 3
   },
   "file_extension": ".py",
   "mimetype": "text/x-python",
   "name": "python",
   "nbconvert_exporter": "python",
   "pygments_lexer": "ipython3",
   "version": "3.11.5"
  }
 },
 "nbformat": 4,
 "nbformat_minor": 4
}
