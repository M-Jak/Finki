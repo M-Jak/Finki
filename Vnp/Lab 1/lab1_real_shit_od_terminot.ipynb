{
  "nbformat": 4,
  "nbformat_minor": 0,
  "metadata": {
    "colab": {
      "provenance": [],
      "include_colab_link": true
    },
    "kernelspec": {
      "name": "python3",
      "display_name": "Python 3"
    },
    "language_info": {
      "name": "python"
    }
  },
  "cells": [
    {
      "cell_type": "markdown",
      "metadata": {
        "id": "view-in-github",
        "colab_type": "text"
      },
      "source": [
        "<a href=\"https://colab.research.google.com/github/M-Jak/Finki/blob/main/Vnp/Lab%201/lab1_real_shit_od_terminot.ipynb\" target=\"_parent\"><img src=\"https://colab.research.google.com/assets/colab-badge.svg\" alt=\"Open In Colab\"/></a>"
      ]
    },
    {
      "cell_type": "code",
      "execution_count": 114,
      "metadata": {
        "id": "8EYuaHWxa-wR",
        "colab": {
          "base_uri": "https://localhost:8080/"
        },
        "outputId": "3bd7eec4-7fc0-4fc1-c227-205dc49895ea"
      },
      "outputs": [
        {
          "output_type": "stream",
          "name": "stdout",
          "text": [
            "\u001b[33m\r0% [Working]\u001b[0m\r            \rHit:1 http://archive.ubuntu.com/ubuntu jammy InRelease\n",
            "\u001b[33m\r0% [Waiting for headers] [Waiting for headers] [Connecting to ppa.launchpadcontent.net (185.125.190.\u001b[0m\r                                                                                                    \rHit:2 https://cloud.r-project.org/bin/linux/ubuntu jammy-cran40/ InRelease\n",
            "\u001b[33m\r0% [Waiting for headers] [Waiting for headers] [Connecting to ppa.launchpadcontent.net (185.125.190.\u001b[0m\r                                                                                                    \rHit:3 http://archive.ubuntu.com/ubuntu jammy-updates InRelease\n",
            "\u001b[33m\r0% [Waiting for headers] [Waiting for headers] [Connecting to ppa.launchpadcontent.net (185.125.190.\u001b[0m\r                                                                                                    \rHit:4 http://archive.ubuntu.com/ubuntu jammy-backports InRelease\n",
            "Hit:5 https://developer.download.nvidia.com/compute/cuda/repos/ubuntu2204/x86_64  InRelease\n",
            "Hit:6 https://ppa.launchpadcontent.net/c2d4u.team/c2d4u4.0+/ubuntu jammy InRelease\n",
            "Hit:7 https://ppa.launchpadcontent.net/deadsnakes/ppa/ubuntu jammy InRelease\n",
            "Hit:8 https://ppa.launchpadcontent.net/graphics-drivers/ppa/ubuntu jammy InRelease\n",
            "Hit:9 https://ppa.launchpadcontent.net/ubuntugis/ppa/ubuntu jammy InRelease\n",
            "Get:10 http://security.ubuntu.com/ubuntu jammy-security InRelease [110 kB]\n",
            "Fetched 110 kB in 10s (11.4 kB/s)\n",
            "Reading package lists... Done\n",
            "Building dependency tree... Done\n",
            "Reading state information... Done\n",
            "21 packages can be upgraded. Run 'apt list --upgradable' to see them.\n",
            "Reading package lists... Done\n",
            "Building dependency tree... Done\n",
            "Reading state information... Done\n",
            "chromium-chromedriver is already the newest version (1:85.0.4183.83-0ubuntu2.22.04.1).\n",
            "0 upgraded, 0 newly installed, 0 to remove and 21 not upgraded.\n",
            "Requirement already satisfied: selenium in /usr/local/lib/python3.10/dist-packages (4.14.0)\n",
            "Requirement already satisfied: urllib3[socks]<3,>=1.26 in /usr/local/lib/python3.10/dist-packages (from selenium) (2.0.7)\n",
            "Requirement already satisfied: trio~=0.17 in /usr/local/lib/python3.10/dist-packages (from selenium) (0.22.2)\n",
            "Requirement already satisfied: trio-websocket~=0.9 in /usr/local/lib/python3.10/dist-packages (from selenium) (0.11.1)\n",
            "Requirement already satisfied: certifi>=2021.10.8 in /usr/local/lib/python3.10/dist-packages (from selenium) (2023.7.22)\n",
            "Requirement already satisfied: attrs>=20.1.0 in /usr/local/lib/python3.10/dist-packages (from trio~=0.17->selenium) (23.1.0)\n",
            "Requirement already satisfied: sortedcontainers in /usr/local/lib/python3.10/dist-packages (from trio~=0.17->selenium) (2.4.0)\n",
            "Requirement already satisfied: idna in /usr/local/lib/python3.10/dist-packages (from trio~=0.17->selenium) (3.4)\n",
            "Requirement already satisfied: outcome in /usr/local/lib/python3.10/dist-packages (from trio~=0.17->selenium) (1.3.0)\n",
            "Requirement already satisfied: sniffio in /usr/local/lib/python3.10/dist-packages (from trio~=0.17->selenium) (1.3.0)\n",
            "Requirement already satisfied: exceptiongroup>=1.0.0rc9 in /usr/local/lib/python3.10/dist-packages (from trio~=0.17->selenium) (1.1.3)\n",
            "Requirement already satisfied: wsproto>=0.14 in /usr/local/lib/python3.10/dist-packages (from trio-websocket~=0.9->selenium) (1.2.0)\n",
            "Requirement already satisfied: pysocks!=1.5.7,<2.0,>=1.5.6 in /usr/local/lib/python3.10/dist-packages (from urllib3[socks]<3,>=1.26->selenium) (1.7.1)\n",
            "Requirement already satisfied: h11<1,>=0.9.0 in /usr/local/lib/python3.10/dist-packages (from wsproto>=0.14->trio-websocket~=0.9->selenium) (0.14.0)\n"
          ]
        }
      ],
      "source": [
        "#requirements for colab\n",
        "# install chromium, its driver, and selenium\n",
        "!apt update\n",
        "!apt install chromium-chromedriver\n",
        "!pip install selenium\n",
        "# set options to be headless, ..\n",
        "from selenium import webdriver\n",
        "options = webdriver.ChromeOptions()\n",
        "options.add_argument('--headless')\n",
        "options.add_argument('--no-sandbox')\n",
        "options.add_argument('--disable-dev-shm-usage')\n",
        "# open it, go to a website, and get results\n",
        "wd = webdriver.Chrome(options=options)\n",
        "wd.get(\"https://play.google.com/store/apps\")\n",
        "\n",
        "import numpy as np\n",
        "import pandas as pd\n",
        "from scipy import stats\n",
        "import matplotlib.pyplot as plt\n",
        "import warnings\n",
        "import requests\n",
        "requests.packages.urllib3.disable_warnings()\n",
        "\n",
        "\n",
        "from selenium.webdriver.common.by import By"
      ]
    },
    {
      "cell_type": "code",
      "source": [
        "def get_reviews(href):\n",
        "  local_wd = webdriver.Chrome(options=options)\n",
        "  local_wd.get(href)\n",
        "  reviews_string = local_wd.find_element(By.CSS_SELECTOR, 'div.g1rdde').text.replace(\" reviews\",\"\").replace(\"+\",\"\")\n",
        "  if 'K' in reviews_string:\n",
        "    reviews = float(reviews_string.replace(\"K\",\"\"))*1000\n",
        "  elif 'M' in reviews_string:\n",
        "    reviews = float(reviews_string.replace(\"M\",\"\"))*1000000\n",
        "  return int(reviews)"
      ],
      "metadata": {
        "id": "4nSlsXjN5htT"
      },
      "execution_count": 115,
      "outputs": []
    },
    {
      "cell_type": "code",
      "source": [
        "items = []\n",
        "divs = wd.find_elements(By.CSS_SELECTOR, 'div.VfPpkd-EScbFb-JIbuQc.UVEnyf') # VfPpkd-EScbFb-JIbuQc UVEnyf\n",
        "links = wd.find_elements(By.CSS_SELECTOR, 'a.Si6A0c.ZD8Cqc')\n",
        "\n",
        "for i in range(len(divs)):\n",
        "  item = {}\n",
        "  item_content = divs[i].text.replace('star',\"\").strip().split('\\n')\n",
        "  item['Name'] = item_content[0]\n",
        "  item['Rating'] = float(item_content[1])\n",
        "  item['Reviews'] = get_reviews(links[i].get_property('href'))\n",
        "  print(item)\n",
        "  items.append(item)\n",
        "  if i == 23:\n",
        "    break\n",
        "\n",
        "df = pd.DataFrame(items)"
      ],
      "metadata": {
        "colab": {
          "base_uri": "https://localhost:8080/"
        },
        "id": "7KrDNmE6wl0P",
        "outputId": "dc872618-b480-427f-8c54-23b1518ee2c4"
      },
      "execution_count": 121,
      "outputs": [
        {
          "output_type": "stream",
          "name": "stdout",
          "text": [
            "{'Name': 'Instagram', 'Rating': 4.0, 'Reviews': 149000000}\n",
            "{'Name': 'Snapchat', 'Rating': 4.1, 'Reviews': 33600000}\n",
            "{'Name': 'TikTok', 'Rating': 4.3, 'Reviews': 59900000}\n",
            "{'Name': 'Temu: Shop Like a Billionaire', 'Rating': 4.7, 'Reviews': 1480000}\n",
            "{'Name': 'Messenger', 'Rating': 4.1, 'Reviews': 87800000}\n",
            "{'Name': 'WhatsApp Messenger', 'Rating': 4.3, 'Reviews': 182000000}\n",
            "{'Name': 'AT&T Personal Cloud', 'Rating': 4.4, 'Reviews': 11200}\n",
            "{'Name': 'TextNow: Call + Text Unlimited', 'Rating': 4.5, 'Reviews': 1320000}\n",
            "{'Name': 'SHEIN-Shopping Online', 'Rating': 4.5, 'Reviews': 6130000}\n",
            "{'Name': 'Telegram', 'Rating': 4.3, 'Reviews': 13100000}\n",
            "{'Name': 'Facebook', 'Rating': 3.4, 'Reviews': 137000000}\n",
            "{'Name': 'Reddit', 'Rating': 2.8, 'Reviews': 3000000}\n",
            "{'Name': 'Spotify: Music and Podcasts', 'Rating': 4.4, 'Reviews': 29800000}\n",
            "{'Name': 'X', 'Rating': 3.8, 'Reviews': 21500000}\n",
            "{'Name': 'Talkie: Soulful AI', 'Rating': 4.3, 'Reviews': 30500}\n",
            "{'Name': 'Discord: Talk, Chat & Hang Out', 'Rating': 4.3, 'Reviews': 5510000}\n",
            "{'Name': 'Walmart: Shopping & Savings', 'Rating': 4.7, 'Reviews': 3920000}\n",
            "{'Name': \"McDonald's\", 'Rating': 4.6, 'Reviews': 1560000}\n",
            "{'Name': 'Netflix', 'Rating': 4.2, 'Reviews': 14300000}\n",
            "{'Name': 'Samsung Smart Switch Mobile', 'Rating': 4.1, 'Reviews': 366000}\n",
            "{'Name': 'LinkedIn: Jobs & Business News', 'Rating': 4.2, 'Reviews': 2720000}\n",
            "{'Name': 'Google Chat', 'Rating': 4.4, 'Reviews': 174000}\n",
            "{'Name': 'Microsoft Teams', 'Rating': 4.7, 'Reviews': 6980000}\n",
            "{'Name': 'Indeed Job Search', 'Rating': 4.7, 'Reviews': 5290000}\n"
          ]
        }
      ]
    },
    {
      "cell_type": "code",
      "source": [
        "print(df.Rating.hist())"
      ],
      "metadata": {
        "colab": {
          "base_uri": "https://localhost:8080/",
          "height": 448
        },
        "id": "-DOec6AM06KT",
        "outputId": "a561e213-f5e2-4494-bbe6-62371da20542"
      },
      "execution_count": 120,
      "outputs": [
        {
          "output_type": "stream",
          "name": "stdout",
          "text": [
            "Axes(0.125,0.11;0.775x0.77)\n"
          ]
        },
        {
          "output_type": "display_data",
          "data": {
            "text/plain": [
              "<Figure size 640x480 with 1 Axes>"
            ],
            "image/png": "[encoded data removed]"
          },
          "metadata": {}
        }
      ]
    },
    {
      "cell_type": "code",
      "source": [
        "print(df.Reviews.min())"
      ],
      "metadata": {
        "colab": {
          "base_uri": "https://localhost:8080/"
        },
        "id": "Uk7txXj-9EDT",
        "outputId": "a967c7bf-3218-4627-d1e3-f93053f301ac"
      },
      "execution_count": 118,
      "outputs": [
        {
          "output_type": "stream",
          "name": "stdout",
          "text": [
            "11200\n"
          ]
        }
      ]
    }
  ]
}