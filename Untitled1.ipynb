{
  "nbformat": 4,
  "nbformat_minor": 0,
  "metadata": {
    "colab": {
      "provenance": [],
      "authorship_tag": "ABX9TyMD9t3pi2N9uBkYKnUYGoPb",
      "include_colab_link": true
    },
    "kernelspec": {
      "name": "python3",
      "display_name": "Python 3"
    },
    "language_info": {
      "name": "python"
    }
  },
  "cells": [
    {
      "cell_type": "markdown",
      "metadata": {
        "id": "view-in-github",
        "colab_type": "text"
      },
      "source": [
        "<a href=\"https://colab.research.google.com/github/M-Jak/Finki/blob/main/Untitled1.ipynb\" target=\"_parent\"><img src=\"https://colab.research.google.com/assets/colab-badge.svg\" alt=\"Open In Colab\"/></a>"
      ]
    },
    {
      "cell_type": "code",
      "execution_count": 1,
      "metadata": {
        "id": "wMZCwCYBrswL"
      },
      "outputs": [],
      "source": [
        "#Note: Imports for the modules that we need\n",
        "import numpy as np\n",
        "import pandas as pd\n",
        "\n",
        "#Note: Requests is a simple, yet elegant, HTTP library.\n",
        "#Resource: https://pypi.org/project/requests/\n",
        "import requests\n",
        "\n",
        "#Note: Beautiful Soup is a library that makes it easy to scrape information from web pages.\n",
        "#Note: In the following resource you can find a way to select any part of a HTML content.\n",
        "#Resource: https://pypi.org/project/beautifulsoup4/\n",
        "from bs4 import BeautifulSoup\n",
        "\n",
        "#Note: IPython is a command shell for interactive computing in Python.\n",
        "#Note: IPython.display is a module for display tools in IPython.\n",
        "#Resource: https://ipython.readthedocs.io/en/stable/api/generated/IPython.display.html\n",
        "from IPython.display import HTML\n",
        "\n",
        "\n",
        "#Note: We can disable warnings for our requests.\n",
        "import warnings\n",
        "\n",
        "requests.packages.urllib3.disable_warnings()\n",
        "warnings.filterwarnings(\"ignore\")\n",
        "\n"
      ]
    }
  ]
}